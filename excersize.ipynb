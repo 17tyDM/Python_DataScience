{
 "cells": [
  {
   "cell_type": "code",
   "execution_count": 12,
   "metadata": {},
   "outputs": [],
   "source": [
    "import numpy as np\n",
    "import pandas as pd\n",
    "import matplotlib.pyplot as plt\n",
    "%matplotlib inline"
   ]
  },
  {
   "cell_type": "code",
   "execution_count": 2,
   "metadata": {},
   "outputs": [
    {
     "data": {
      "text/plain": [
       "array([2, 8, 1, 1, 8, 3, 3, 5, 6, 8, 8, 0, 1, 3, 9, 2, 7, 3, 1, 1, 7, 9,\n",
       "       6, 8, 9, 8, 0, 3, 4, 2, 0, 4, 2, 3, 8, 2, 3, 8, 8, 3, 7, 0, 1, 2,\n",
       "       1, 2, 6, 7, 1, 1, 0, 7, 9, 1, 2, 7, 6, 5, 6, 5, 9, 8, 1, 2, 6, 8,\n",
       "       8, 4, 2, 4, 0, 3, 2, 0, 7, 6, 1, 4, 3, 0, 9, 6, 3, 0, 2, 5, 1, 7,\n",
       "       5, 5, 6, 8, 0, 2, 3, 3, 2, 9, 1, 3])"
      ]
     },
     "execution_count": 2,
     "metadata": {},
     "output_type": "execute_result"
    }
   ],
   "source": [
    "n_random = np.random.randint(0,10,100)\n",
    "n_random"
   ]
  },
  {
   "cell_type": "code",
   "execution_count": 8,
   "metadata": {},
   "outputs": [],
   "source": [
    "random_array = pd.Series(n_random)\n",
    "random_array_DF = pd.DataFrame(random_array)\n",
    "base_total = random_array_DF.describe()\n",
    "base_total.to_csv('base_total.csv')"
   ]
  },
  {
   "cell_type": "code",
   "execution_count": 14,
   "metadata": {},
   "outputs": [
    {
     "data": {
      "image/png": "[encoded data removed]",
      "text/plain": [
       "<Figure size 640x480 with 1 Axes>"
      ]
     },
     "metadata": {},
     "output_type": "display_data"
    },
    {
     "ename": "AttributeError",
     "evalue": "'PathCollection' object has no attribute 'savefig'",
     "output_type": "error",
     "traceback": [
      "\u001b[0;31m---------------------------------------------------------------------------\u001b[0m",
      "\u001b[0;31mAttributeError\u001b[0m                            Traceback (most recent call last)",
      "Cell \u001b[0;32mIn[14], line 5\u001b[0m\n\u001b[1;32m      3\u001b[0m a \u001b[39m=\u001b[39m plt\u001b[39m.\u001b[39mscatter(p_x, p_y)\n\u001b[1;32m      4\u001b[0m plt\u001b[39m.\u001b[39mshow()\n\u001b[0;32m----> 5\u001b[0m a\u001b[39m.\u001b[39;49msavefig(\u001b[39m'\u001b[39m\u001b[39mtest3.png\u001b[39m\u001b[39m'\u001b[39m)\n",
      "\u001b[0;31mAttributeError\u001b[0m: 'PathCollection' object has no attribute 'savefig'"
     ]
    }
   ],
   "source": [
    "p_x = np.random.rand(100)\n",
    "p_y = np.random.rand(100)\n",
    "plt.scatter(p_x, p_y)\n",
    "plt.show()"
   ]
  },
  {
   "cell_type": "code",
   "execution_count": null,
   "metadata": {},
   "outputs": [],
   "source": []
  }
 ],
 "metadata": {
  "kernelspec": {
   "display_name": "venv",
   "language": "python",
   "name": "python3"
  },
  "language_info": {
   "codemirror_mode": {
    "name": "ipython",
    "version": 3
   },
   "file_extension": ".py",
   "mimetype": "text/x-python",
   "name": "python",
   "nbconvert_exporter": "python",
   "pygments_lexer": "ipython3",
   "version": "3.10.6"
  },
  "orig_nbformat": 4
 },
 "nbformat": 4,
 "nbformat_minor": 2
}
